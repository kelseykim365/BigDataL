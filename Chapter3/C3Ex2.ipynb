{
 "cells": [
  {
   "cell_type": "code",
   "execution_count": 1,
   "id": "e86c283b-b988-4e2c-9c0d-0bf144380b8c",
   "metadata": {},
   "outputs": [
    {
     "data": {
      "text/plain": [
       "'/opt/anaconda3/lib/python3.11/site-packages/pyspark'"
      ]
     },
     "execution_count": 1,
     "metadata": {},
     "output_type": "execute_result"
    }
   ],
   "source": [
    "import findspark\n",
    "findspark.init()\n",
    "\n",
    "import pyspark\n",
    "findspark.find()"
   ]
  },
  {
   "cell_type": "code",
   "execution_count": 2,
   "id": "7e5c3c2d-b1e5-4638-8c6f-90c1920e51d8",
   "metadata": {},
   "outputs": [
    {
     "name": "stderr",
     "output_type": "stream",
     "text": [
      "Setting default log level to \"WARN\".\n",
      "To adjust logging level use sc.setLogLevel(newLevel). For SparkR, use setLogLevel(newLevel).\n",
      "25/07/16 20:06:09 WARN NativeCodeLoader: Unable to load native-hadoop library for your platform... using builtin-java classes where applicable\n"
     ]
    }
   ],
   "source": [
    "from pyspark import SparkContext\n",
    "from pyspark.sql import SparkSession\n",
    "\n",
    "sc = SparkContext()"
   ]
  },
  {
   "cell_type": "code",
   "execution_count": 3,
   "id": "6ea5bcb1-0065-43ce-ba11-7cd8be0e85be",
   "metadata": {},
   "outputs": [
    {
     "name": "stdout",
     "output_type": "stream",
     "text": [
      "The type of data is <class 'pyspark.rdd.RDD'>\n"
     ]
    }
   ],
   "source": [
    "data = sc.textFile(\"5000_points.txt\", minPartitions=3)\n",
    "print(\"The type of data is\", type(data))"
   ]
  },
  {
   "cell_type": "code",
   "execution_count": 5,
   "id": "9e2768f7-1be2-4ab7-ba71-66ddb8b00ff0",
   "metadata": {},
   "outputs": [
    {
     "name": "stdout",
     "output_type": "stream",
     "text": [
      "Number of elements:  5000\n"
     ]
    }
   ],
   "source": [
    "print(\"Number of elements: \", data.count())"
   ]
  },
  {
   "cell_type": "code",
   "execution_count": 6,
   "id": "79b4c224-73fd-4a6b-a061-3cf52722e1eb",
   "metadata": {},
   "outputs": [
    {
     "data": {
      "text/plain": [
       "['664159\\t550946',\n",
       " '665845\\t557965',\n",
       " '597173\\t575538',\n",
       " '618600\\t551446',\n",
       " '635690\\t608046']"
      ]
     },
     "execution_count": 6,
     "metadata": {},
     "output_type": "execute_result"
    }
   ],
   "source": [
    "data.take(5)"
   ]
  },
  {
   "cell_type": "code",
   "execution_count": 7,
   "id": "402d0528",
   "metadata": {},
   "outputs": [
    {
     "data": {
      "text/plain": [
       "[(664159, 550946),\n",
       " (665845, 557965),\n",
       " (597173, 575538),\n",
       " (618600, 551446),\n",
       " (635690, 608046)]"
      ]
     },
     "execution_count": 7,
     "metadata": {},
     "output_type": "execute_result"
    }
   ],
   "source": [
    "pair_data = data.map(lambda s: (int(s.split('\\t')[0]), int(s.split('\\t')[1])))\n",
    "pair_data.take(5)"
   ]
  },
  {
   "cell_type": "code",
   "execution_count": 8,
   "id": "93e9d363",
   "metadata": {},
   "outputs": [
    {
     "data": {
      "text/plain": [
       "[(961951, 577029),\n",
       " (937823, 540173),\n",
       " (932662, 537069),\n",
       " (927170, 250593),\n",
       " (925732, 210388)]"
      ]
     },
     "execution_count": 8,
     "metadata": {},
     "output_type": "execute_result"
    }
   ],
   "source": [
    "pair_data_short = pair_data.sortByKey(ascending=False)\n",
    "pair_data_short.take(5)"
   ]
  },
  {
   "cell_type": "code",
   "execution_count": 9,
   "id": "a3ca3669",
   "metadata": {},
   "outputs": [
    {
     "name": "stdout",
     "output_type": "stream",
     "text": [
      "871544 2\n",
      "865489 2\n",
      "838036 2\n",
      "826192 2\n",
      "805089 2\n",
      "804251 2\n",
      "620330 2\n",
      "618869 2\n",
      "393758 2\n",
      "341966 2\n",
      "338474 2\n",
      "186380 2\n",
      "166973 2\n"
     ]
    }
   ],
   "source": [
    "for key, val in pair_data_short.countByKey().items():\n",
    "    if val > 1:\n",
    "        print(key, val)"
   ]
  },
  {
   "cell_type": "code",
   "execution_count": 10,
   "id": "c5513bd8",
   "metadata": {},
   "outputs": [],
   "source": [
    "pair_data_groupby = pair_data.groupByKey().collect()"
   ]
  },
  {
   "cell_type": "code",
   "execution_count": 11,
   "id": "7cd83420",
   "metadata": {},
   "outputs": [
    {
     "name": "stdout",
     "output_type": "stream",
     "text": [
      "805089 [762512, 96540]\n",
      "838036 [749612, 542999]\n",
      "826192 [172906, 577784]\n",
      "865489 [161762, 548920]\n",
      "618869 [577243, 398187]\n",
      "804251 [329956, 331304]\n",
      "393758 [750953, 439738]\n",
      "871544 [144135, 592403]\n",
      "338474 [563350, 564151]\n",
      "341966 [561987, 586266]\n",
      "186380 [363938, 487625]\n",
      "166973 [341636, 334724]\n",
      "620330 [398630, 396776]\n"
     ]
    }
   ],
   "source": [
    "for x, y in pair_data_groupby:\n",
    "    if len(list(y)) > 1:\n",
    "        print(x, list(y))"
   ]
  },
  {
   "cell_type": "code",
   "execution_count": 12,
   "id": "5d7b7159",
   "metadata": {},
   "outputs": [],
   "source": [
    "import math\n",
    "pair_data_reduce = pair_data.reduceByKey(lambda x, y: max(x, y))"
   ]
  },
  {
   "cell_type": "code",
   "execution_count": 13,
   "id": "2fd554a9",
   "metadata": {},
   "outputs": [
    {
     "name": "stdout",
     "output_type": "stream",
     "text": [
      "Number of elements:  4987\n"
     ]
    }
   ],
   "source": [
    "print(\"Number of elements: \", pair_data_reduce.count())"
   ]
  },
  {
   "cell_type": "code",
   "execution_count": 14,
   "id": "4ca6d95f",
   "metadata": {},
   "outputs": [
    {
     "name": "stdout",
     "output_type": "stream",
     "text": [
      "620330 398630\n"
     ]
    }
   ],
   "source": [
    "for x, y in pair_data_reduce.collect():\n",
    "    if x == 620330:\n",
    "        print(x, y)"
   ]
  }
 ],
 "metadata": {
  "kernelspec": {
   "display_name": "Python 3 (ipykernel)",
   "language": "python",
   "name": "python3"
  },
  "language_info": {
   "codemirror_mode": {
    "name": "ipython",
    "version": 3
   },
   "file_extension": ".py",
   "mimetype": "text/x-python",
   "name": "python",
   "nbconvert_exporter": "python",
   "pygments_lexer": "ipython3",
   "version": "3.11.0"
  }
 },
 "nbformat": 4,
 "nbformat_minor": 5
}

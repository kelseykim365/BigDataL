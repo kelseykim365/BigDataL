{
 "cells": [
  {
   "cell_type": "code",
   "execution_count": 1,
   "id": "6a820c1b",
   "metadata": {},
   "outputs": [],
   "source": [
    "def shape(data):\n",
    "    num_rows = data.count()\n",
    "    num_columns = len(data.columns)\n",
    "    print(f\"Shape: ({num_rows}, {num_columns})\")"
   ]
  },
  {
   "cell_type": "code",
   "execution_count": 2,
   "id": "960a6ae4",
   "metadata": {},
   "outputs": [],
   "source": [
    "import warnings\n",
    "warnings.filterwarnings(\"ignore\") # Ignores all warnings"
   ]
  },
  {
   "cell_type": "code",
   "execution_count": 3,
   "id": "e86c283b-b988-4e2c-9c0d-0bf144380b8c",
   "metadata": {},
   "outputs": [],
   "source": [
    "import findspark\n",
    "findspark.init()\n",
    "\n",
    "import pyspark"
   ]
  },
  {
   "cell_type": "code",
   "execution_count": 4,
   "id": "7e5c3c2d-b1e5-4638-8c6f-90c1920e51d8",
   "metadata": {},
   "outputs": [
    {
     "name": "stderr",
     "output_type": "stream",
     "text": [
      "Setting default log level to \"WARN\".\n",
      "To adjust logging level use sc.setLogLevel(newLevel). For SparkR, use setLogLevel(newLevel).\n",
      "25/07/04 22:19:19 WARN NativeCodeLoader: Unable to load native-hadoop library for your platform... using builtin-java classes where applicable\n"
     ]
    }
   ],
   "source": [
    "from pyspark import SparkContext\n",
    "from pyspark.conf import SparkConf\n",
    "from pyspark.sql import SparkSession\n",
    "\n",
    "sc = SparkContext()\n",
    "spark = SparkSession(sc)"
   ]
  },
  {
   "cell_type": "code",
   "execution_count": 5,
   "id": "fd4926b2",
   "metadata": {},
   "outputs": [],
   "source": [
    "from pyspark import SparkFiles\n",
    "sc.addFile('https://raw.githubusercontent.com/zsu020958/data_base/main/Python/cleaning_data_in_pyspark/DallasCouncilVoters.csv')\n",
    "\n",
    "# dataset\n",
    "voters_df = spark.read.format('csv') \\\n",
    "    .options(header=True) \\\n",
    "    .options(inferSchema=True) \\\n",
    "    .load(SparkFiles.get('DallasCouncilVoters.csv'))"
   ]
  },
  {
   "cell_type": "code",
   "execution_count": 6,
   "id": "9e527d27",
   "metadata": {},
   "outputs": [
    {
     "name": "stdout",
     "output_type": "stream",
     "text": [
      "root\n",
      " |-- DATE: string (nullable = true)\n",
      " |-- TITLE: string (nullable = true)\n",
      " |-- VOTER_NAME: string (nullable = true)\n",
      "\n"
     ]
    }
   ],
   "source": [
    "voters_df.printSchema()"
   ]
  },
  {
   "cell_type": "code",
   "execution_count": 7,
   "id": "2e788255",
   "metadata": {},
   "outputs": [
    {
     "name": "stdout",
     "output_type": "stream",
     "text": [
      "Shape: (44625, 3)\n"
     ]
    }
   ],
   "source": [
    "shape(voters_df)"
   ]
  },
  {
   "cell_type": "code",
   "execution_count": 8,
   "id": "758b669f",
   "metadata": {},
   "outputs": [
    {
     "name": "stdout",
     "output_type": "stream",
     "text": [
      "+----------+-------------+-------------------+\n",
      "|      DATE|        TITLE|         VOTER_NAME|\n",
      "+----------+-------------+-------------------+\n",
      "|02/08/2017|Councilmember|  Jennifer S. Gates|\n",
      "|02/08/2017|Councilmember| Philip T. Kingston|\n",
      "|02/08/2017|        Mayor|Michael S. Rawlings|\n",
      "+----------+-------------+-------------------+\n",
      "only showing top 3 rows\n",
      "\n"
     ]
    }
   ],
   "source": [
    "voters_df.show(3)"
   ]
  },
  {
   "cell_type": "code",
   "execution_count": 9,
   "id": "5c29cf43",
   "metadata": {},
   "outputs": [],
   "source": [
    "# ### Check NaN, Null\n",
    "from pyspark.sql.functions import count, when, isnan, col"
   ]
  },
  {
   "cell_type": "code",
   "execution_count": 10,
   "id": "80ba3984",
   "metadata": {},
   "outputs": [
    {
     "data": {
      "text/html": [
       "<div>\n",
       "<style scoped>\n",
       "    .dataframe tbody tr th:only-of-type {\n",
       "        vertical-align: middle;\n",
       "    }\n",
       "\n",
       "    .dataframe tbody tr th {\n",
       "        vertical-align: top;\n",
       "    }\n",
       "\n",
       "    .dataframe thead th {\n",
       "        text-align: right;\n",
       "    }\n",
       "</style>\n",
       "<table border=\"1\" class=\"dataframe\">\n",
       "  <thead>\n",
       "    <tr style=\"text-align: right;\">\n",
       "      <th></th>\n",
       "      <th>0</th>\n",
       "    </tr>\n",
       "  </thead>\n",
       "  <tbody>\n",
       "    <tr>\n",
       "      <th>DATE</th>\n",
       "      <td>0</td>\n",
       "    </tr>\n",
       "    <tr>\n",
       "      <th>TITLE</th>\n",
       "      <td>0</td>\n",
       "    </tr>\n",
       "    <tr>\n",
       "      <th>VOTER_NAME</th>\n",
       "      <td>0</td>\n",
       "    </tr>\n",
       "  </tbody>\n",
       "</table>\n",
       "</div>"
      ],
      "text/plain": [
       "            0\n",
       "DATE        0\n",
       "TITLE       0\n",
       "VOTER_NAME  0"
      ]
     },
     "execution_count": 10,
     "metadata": {},
     "output_type": "execute_result"
    }
   ],
   "source": [
    "voters_df.select([count(when(isnan(c), c)).alias(c) for c in voters_df.columns]).toPandas().T"
   ]
  },
  {
   "cell_type": "code",
   "execution_count": 11,
   "id": "fa536859",
   "metadata": {},
   "outputs": [
    {
     "data": {
      "text/html": [
       "<div>\n",
       "<style scoped>\n",
       "    .dataframe tbody tr th:only-of-type {\n",
       "        vertical-align: middle;\n",
       "    }\n",
       "\n",
       "    .dataframe tbody tr th {\n",
       "        vertical-align: top;\n",
       "    }\n",
       "\n",
       "    .dataframe thead th {\n",
       "        text-align: right;\n",
       "    }\n",
       "</style>\n",
       "<table border=\"1\" class=\"dataframe\">\n",
       "  <thead>\n",
       "    <tr style=\"text-align: right;\">\n",
       "      <th></th>\n",
       "      <th>0</th>\n",
       "    </tr>\n",
       "  </thead>\n",
       "  <tbody>\n",
       "    <tr>\n",
       "      <th>DATE</th>\n",
       "      <td>0</td>\n",
       "    </tr>\n",
       "    <tr>\n",
       "      <th>TITLE</th>\n",
       "      <td>195</td>\n",
       "    </tr>\n",
       "    <tr>\n",
       "      <th>VOTER_NAME</th>\n",
       "      <td>503</td>\n",
       "    </tr>\n",
       "  </tbody>\n",
       "</table>\n",
       "</div>"
      ],
      "text/plain": [
       "              0\n",
       "DATE          0\n",
       "TITLE       195\n",
       "VOTER_NAME  503"
      ]
     },
     "execution_count": 11,
     "metadata": {},
     "output_type": "execute_result"
    }
   ],
   "source": [
    "voters_df.select([count(when(col(c).isNull(), c)).alias(c) for c in voters_df.columns]).toPandas().T"
   ]
  },
  {
   "cell_type": "markdown",
   "id": "cf454748",
   "metadata": {},
   "source": [
    "- Got null >> delete null"
   ]
  },
  {
   "cell_type": "code",
   "execution_count": 12,
   "id": "258ab9df",
   "metadata": {},
   "outputs": [
    {
     "data": {
      "text/html": [
       "<div>\n",
       "<style scoped>\n",
       "    .dataframe tbody tr th:only-of-type {\n",
       "        vertical-align: middle;\n",
       "    }\n",
       "\n",
       "    .dataframe tbody tr th {\n",
       "        vertical-align: top;\n",
       "    }\n",
       "\n",
       "    .dataframe thead th {\n",
       "        text-align: right;\n",
       "    }\n",
       "</style>\n",
       "<table border=\"1\" class=\"dataframe\">\n",
       "  <thead>\n",
       "    <tr style=\"text-align: right;\">\n",
       "      <th></th>\n",
       "      <th>0</th>\n",
       "    </tr>\n",
       "  </thead>\n",
       "  <tbody>\n",
       "    <tr>\n",
       "      <th>DATE</th>\n",
       "      <td>0</td>\n",
       "    </tr>\n",
       "    <tr>\n",
       "      <th>TITLE</th>\n",
       "      <td>0</td>\n",
       "    </tr>\n",
       "    <tr>\n",
       "      <th>VOTER_NAME</th>\n",
       "      <td>0</td>\n",
       "    </tr>\n",
       "  </tbody>\n",
       "</table>\n",
       "</div>"
      ],
      "text/plain": [
       "            0\n",
       "DATE        0\n",
       "TITLE       0\n",
       "VOTER_NAME  0"
      ]
     },
     "execution_count": 12,
     "metadata": {},
     "output_type": "execute_result"
    }
   ],
   "source": [
    "voters_df = voters_df.dropna(subset='VOTER_NAME')\n",
    "voters_df.select([count(when(col(c).isNull(), c)).alias(c) for c in voters_df.columns]).toPandas().T\n"
   ]
  },
  {
   "cell_type": "code",
   "execution_count": 13,
   "id": "79c8e8bf",
   "metadata": {},
   "outputs": [
    {
     "data": {
      "text/plain": [
       "44122"
      ]
     },
     "metadata": {},
     "output_type": "display_data"
    },
    {
     "data": {
      "text/plain": [
       "1273"
      ]
     },
     "metadata": {},
     "output_type": "display_data"
    },
    {
     "data": {
      "text/plain": [
       "42849"
      ]
     },
     "metadata": {},
     "output_type": "display_data"
    }
   ],
   "source": [
    "num_rows = voters_df.count()\n",
    "num_dist_rows = voters_df.distinct().count()\n",
    "dup_rows = num_rows - num_dist_rows\n",
    "display(num_rows, num_dist_rows, dup_rows)"
   ]
  },
  {
   "cell_type": "code",
   "execution_count": 14,
   "id": "29277814",
   "metadata": {},
   "outputs": [
    {
     "name": "stdout",
     "output_type": "stream",
     "text": [
      "+----------+-------------+------------------+\n",
      "|      DATE|        TITLE|        VOTER_NAME|\n",
      "+----------+-------------+------------------+\n",
      "|02/08/2017|Councilmember|Philip T. Kingston|\n",
      "|02/08/2017|Councilmember|Philip T. Kingston|\n",
      "|01/11/2017|Councilmember|Philip T. Kingston|\n",
      "|09/14/2016|Councilmember|Philip T. Kingston|\n",
      "|01/04/2017|Councilmember|Philip T. Kingston|\n",
      "+----------+-------------+------------------+\n",
      "only showing top 5 rows\n",
      "\n"
     ]
    }
   ],
   "source": [
    "# check duplicates\n",
    "voters_df.filter(voters_df['VOTER_NAME'] == 'Philip T. Kingston').show(5)\n"
   ]
  },
  {
   "cell_type": "code",
   "execution_count": 15,
   "id": "025e17ef",
   "metadata": {},
   "outputs": [
    {
     "data": {
      "text/plain": [
       "1273"
      ]
     },
     "execution_count": 15,
     "metadata": {},
     "output_type": "execute_result"
    }
   ],
   "source": [
    "voters_df = voters_df.drop_duplicates()\n",
    "voters_df.count()"
   ]
  },
  {
   "cell_type": "code",
   "execution_count": 16,
   "id": "2063b00a",
   "metadata": {},
   "outputs": [
    {
     "name": "stdout",
     "output_type": "stream",
     "text": [
      "+--------------------+\n",
      "|          VOTER_NAME|\n",
      "+--------------------+\n",
      "|      Tennell Atkins|\n",
      "|  the  final   20...|\n",
      "|        Scott Griggs|\n",
      "|       Scott  Griggs|\n",
      "|       Sandy Greyson|\n",
      "| Michael S. Rawlings|\n",
      "| the final 2018 A...|\n",
      "|        Kevin Felder|\n",
      "|        Adam Medrano|\n",
      "|       Casey  Thomas|\n",
      "+--------------------+\n",
      "only showing top 10 rows\n",
      "\n"
     ]
    }
   ],
   "source": [
    "# show the distinct VOTER_NAME entries\n",
    "voters_df.select(voters_df['VOTER_NAME']).distinct().show(10)"
   ]
  },
  {
   "cell_type": "code",
   "execution_count": 17,
   "id": "2418aa52",
   "metadata": {},
   "outputs": [
    {
     "name": "stdout",
     "output_type": "stream",
     "text": [
      "+----------+--------------------+------------------+\n",
      "|      DATE|               TITLE|        VOTER_NAME|\n",
      "+----------+--------------------+------------------+\n",
      "|04/11/2018|Deputy Mayor Pro Tem|      Adam Medrano|\n",
      "|02/14/2018|       Councilmember|   Lee M. Kleinman|\n",
      "|04/25/2018|       Councilmember|    Tennell Atkins|\n",
      "|08/29/2018|       Councilmember|      Kevin Felder|\n",
      "|10/18/2017|       Councilmember|Jennifer S.  Gates|\n",
      "+----------+--------------------+------------------+\n",
      "only showing top 5 rows\n",
      "\n"
     ]
    }
   ],
   "source": [
    "# filter voter_df where the VOTER_NAME is 1-20 characters in length\n",
    "voters_df = voters_df.filter('length(VOTER_NAME) > 0 and length(VOTER_NAME) < 20')\n",
    "voters_df.show(5)"
   ]
  },
  {
   "cell_type": "code",
   "execution_count": 18,
   "id": "40cee79f",
   "metadata": {},
   "outputs": [],
   "source": [
    "# filter out voter_df where the VOTER_NAME contains an underscore (remove)\n",
    "voters_df = voters_df.filter(~ col('VOTER_NAME').contains('_'))"
   ]
  },
  {
   "cell_type": "code",
   "execution_count": 19,
   "id": "85208886",
   "metadata": {},
   "outputs": [
    {
     "name": "stdout",
     "output_type": "stream",
     "text": [
      "+-------------------+\n",
      "|VOTER_NAME         |\n",
      "+-------------------+\n",
      "|Tennell Atkins     |\n",
      "|Scott Griggs       |\n",
      "|Scott  Griggs      |\n",
      "|Sandy Greyson      |\n",
      "|Michael S. Rawlings|\n",
      "|Kevin Felder       |\n",
      "|Adam Medrano       |\n",
      "|Casey  Thomas      |\n",
      "|Mark  Clayton      |\n",
      "|Casey Thomas       |\n",
      "+-------------------+\n",
      "only showing top 10 rows\n",
      "\n"
     ]
    }
   ],
   "source": [
    "# show the distinct VOTER_NAME entries again\n",
    "voters_df.select('VOTER_NAME').distinct().show(10, truncate=False)"
   ]
  },
  {
   "cell_type": "markdown",
   "id": "ecc4814b",
   "metadata": {},
   "source": [
    "### Modifying DataFrame"
   ]
  },
  {
   "cell_type": "code",
   "execution_count": 20,
   "id": "8a44152b",
   "metadata": {},
   "outputs": [],
   "source": [
    "from pyspark.sql.functions import *"
   ]
  },
  {
   "cell_type": "code",
   "execution_count": 21,
   "id": "073cd9b1",
   "metadata": {},
   "outputs": [],
   "source": [
    "# add a new column called splits separated om whitespace\n",
    "voters_df = voters_df.withColumn('splits', split(voters_df.VOTER_NAME, '\\s+'))"
   ]
  },
  {
   "cell_type": "code",
   "execution_count": 22,
   "id": "6afb3c7d",
   "metadata": {},
   "outputs": [
    {
     "name": "stdout",
     "output_type": "stream",
     "text": [
      "+----------+--------------------+------------------+--------------------+\n",
      "|      DATE|               TITLE|        VOTER_NAME|              splits|\n",
      "+----------+--------------------+------------------+--------------------+\n",
      "|04/11/2018|Deputy Mayor Pro Tem|      Adam Medrano|     [Adam, Medrano]|\n",
      "|02/14/2018|       Councilmember|   Lee M. Kleinman| [Lee, M., Kleinman]|\n",
      "|04/25/2018|       Councilmember|    Tennell Atkins|   [Tennell, Atkins]|\n",
      "|08/29/2018|       Councilmember|      Kevin Felder|     [Kevin, Felder]|\n",
      "|10/18/2017|       Councilmember|Jennifer S.  Gates|[Jennifer, S., Ga...|\n",
      "+----------+--------------------+------------------+--------------------+\n",
      "only showing top 5 rows\n",
      "\n"
     ]
    }
   ],
   "source": [
    "voters_df.show(5)"
   ]
  },
  {
   "cell_type": "code",
   "execution_count": 23,
   "id": "2e53bb7c",
   "metadata": {},
   "outputs": [
    {
     "name": "stdout",
     "output_type": "stream",
     "text": [
      "+----------+--------------------+---------------+-------------------+----------+\n",
      "|      DATE|               TITLE|     VOTER_NAME|             splits|first_name|\n",
      "+----------+--------------------+---------------+-------------------+----------+\n",
      "|04/11/2018|Deputy Mayor Pro Tem|   Adam Medrano|    [Adam, Medrano]|      Adam|\n",
      "|02/14/2018|       Councilmember|Lee M. Kleinman|[Lee, M., Kleinman]|       Lee|\n",
      "+----------+--------------------+---------------+-------------------+----------+\n",
      "only showing top 2 rows\n",
      "\n"
     ]
    }
   ],
   "source": [
    "# create a new column called first name based on the first item in splits\n",
    "voters_df = voters_df.withColumn('first_name', voters_df.splits.getItem(0))\n",
    "voters_df.show(2)"
   ]
  },
  {
   "cell_type": "code",
   "execution_count": 24,
   "id": "db8ab81c",
   "metadata": {},
   "outputs": [
    {
     "name": "stdout",
     "output_type": "stream",
     "text": [
      "+----------+--------------------+---------------+-------------------+----------+---------+\n",
      "|      DATE|               TITLE|     VOTER_NAME|             splits|first_name|last_name|\n",
      "+----------+--------------------+---------------+-------------------+----------+---------+\n",
      "|04/11/2018|Deputy Mayor Pro Tem|   Adam Medrano|    [Adam, Medrano]|      Adam|  Medrano|\n",
      "|02/14/2018|       Councilmember|Lee M. Kleinman|[Lee, M., Kleinman]|       Lee| Kleinman|\n",
      "+----------+--------------------+---------------+-------------------+----------+---------+\n",
      "only showing top 2 rows\n",
      "\n"
     ]
    }
   ],
   "source": [
    "# get the last entry of the splits list and create a column called last name\n",
    "voters_df = voters_df.withColumn('last_name', voters_df.splits.getItem(size('splits') - 1))\n",
    "voters_df.show(2)"
   ]
  },
  {
   "cell_type": "code",
   "execution_count": 25,
   "id": "874f0765",
   "metadata": {},
   "outputs": [],
   "source": [
    "# drop the splits column\n",
    "#voters_df = voters_df.drop('splits')"
   ]
  },
  {
   "cell_type": "code",
   "execution_count": 26,
   "id": "19b5dbcd",
   "metadata": {},
   "outputs": [
    {
     "name": "stdout",
     "output_type": "stream",
     "text": [
      "+----------+--------------------+------------------+--------------------+----------+---------+-------------------+\n",
      "|      DATE|               TITLE|        VOTER_NAME|              splits|first_name|last_name|         random_val|\n",
      "+----------+--------------------+------------------+--------------------+----------+---------+-------------------+\n",
      "|04/11/2018|Deputy Mayor Pro Tem|      Adam Medrano|     [Adam, Medrano]|      Adam|  Medrano|               NULL|\n",
      "|02/14/2018|       Councilmember|   Lee M. Kleinman| [Lee, M., Kleinman]|       Lee| Kleinman|  0.414099294404493|\n",
      "|04/25/2018|       Councilmember|    Tennell Atkins|   [Tennell, Atkins]|   Tennell|   Atkins|  0.964957820832375|\n",
      "|08/29/2018|       Councilmember|      Kevin Felder|     [Kevin, Felder]|     Kevin|   Felder| 0.6088138321116783|\n",
      "|10/18/2017|       Councilmember|Jennifer S.  Gates|[Jennifer, S., Ga...|  Jennifer|    Gates|0.27300987908556695|\n",
      "+----------+--------------------+------------------+--------------------+----------+---------+-------------------+\n",
      "only showing top 5 rows\n",
      "\n"
     ]
    }
   ],
   "source": [
    "# add a column to voter_df for any voter with the title 'Councilmember'\n",
    "voters_df = voters_df.withColumn('random_val', when(voters_df.TITLE == 'Councilmember', rand()))\n",
    "voters_df.show(5) "
   ]
  },
  {
   "cell_type": "code",
   "execution_count": 27,
   "id": "2ae02059",
   "metadata": {},
   "outputs": [],
   "source": [
    "# add a column to voters_df for a voter based on their position\n",
    "voters_df = voters_df.withColumn('random_val', \n",
    "                                 when(voters_df.TITLE == 'Councilmember', rand())\n",
    "                                 .when(voters_df.TITLE == 'Mayor', 2)\n",
    "                                 .otherwise(0))"
   ]
  },
  {
   "cell_type": "code",
   "execution_count": 28,
   "id": "6e593dc3",
   "metadata": {},
   "outputs": [
    {
     "name": "stdout",
     "output_type": "stream",
     "text": [
      "+----------+--------------------+------------------+--------------------+----------+---------+-------------------+\n",
      "|      DATE|               TITLE|        VOTER_NAME|              splits|first_name|last_name|         random_val|\n",
      "+----------+--------------------+------------------+--------------------+----------+---------+-------------------+\n",
      "|04/11/2018|Deputy Mayor Pro Tem|      Adam Medrano|     [Adam, Medrano]|      Adam|  Medrano|                0.0|\n",
      "|02/14/2018|       Councilmember|   Lee M. Kleinman| [Lee, M., Kleinman]|       Lee| Kleinman|0.27704564862852665|\n",
      "|04/25/2018|       Councilmember|    Tennell Atkins|   [Tennell, Atkins]|   Tennell|   Atkins|0.48321996392774413|\n",
      "|08/29/2018|       Councilmember|      Kevin Felder|     [Kevin, Felder]|     Kevin|   Felder|0.02436788692368619|\n",
      "|10/18/2017|       Councilmember|Jennifer S.  Gates|[Jennifer, S., Ga...|  Jennifer|    Gates|0.22666829644174258|\n",
      "+----------+--------------------+------------------+--------------------+----------+---------+-------------------+\n",
      "only showing top 5 rows\n",
      "\n"
     ]
    }
   ],
   "source": [
    "voters_df.show(5)"
   ]
  },
  {
   "cell_type": "code",
   "execution_count": 29,
   "id": "10555424",
   "metadata": {},
   "outputs": [
    {
     "name": "stdout",
     "output_type": "stream",
     "text": [
      "+----------+--------------------+-----------------+--------------------+----------+---------+----------+\n",
      "|      DATE|               TITLE|       VOTER_NAME|              splits|first_name|last_name|random_val|\n",
      "+----------+--------------------+-----------------+--------------------+----------+---------+----------+\n",
      "|04/11/2018|Deputy Mayor Pro Tem|     Adam Medrano|     [Adam, Medrano]|      Adam|  Medrano|       0.0|\n",
      "|04/12/2017|       Mayor Pro Tem| Monica R. Alonzo|[Monica, R., Alonzo]|    Monica|   Alonzo|       0.0|\n",
      "|06/28/2017|Deputy Mayor Pro Tem|     Adam Medrano|     [Adam, Medrano]|      Adam|  Medrano|       0.0|\n",
      "|01/03/2018|Deputy Mayor Pro Tem|     Adam Medrano|     [Adam, Medrano]|      Adam|  Medrano|       0.0|\n",
      "|01/17/2018|       Mayor Pro Tem|Dwaine R. Caraway|[Dwaine, R., Cara...|    Dwaine|  Caraway|       0.0|\n",
      "+----------+--------------------+-----------------+--------------------+----------+---------+----------+\n",
      "only showing top 5 rows\n",
      "\n"
     ]
    }
   ],
   "source": [
    "voters_df.filter(voters_df.random_val == 0).show(5)"
   ]
  },
  {
   "cell_type": "markdown",
   "id": "700d8d47",
   "metadata": {},
   "source": [
    "### UDF"
   ]
  },
  {
   "cell_type": "code",
   "execution_count": 30,
   "id": "3c1515e9",
   "metadata": {},
   "outputs": [],
   "source": [
    "from pyspark.sql.types import *"
   ]
  },
  {
   "cell_type": "code",
   "execution_count": 31,
   "id": "56df2e6b",
   "metadata": {},
   "outputs": [],
   "source": [
    "def getFirstAndMiddle(names):\n",
    "    # return a space separated string of names\n",
    "    return ' '.join(names[:-1])"
   ]
  },
  {
   "cell_type": "code",
   "execution_count": 32,
   "id": "f2f39ac9",
   "metadata": {},
   "outputs": [],
   "source": [
    "# define the method as a UDF\n",
    "udfFirstAndMiddle = udf(getFirstAndMiddle, StringType())\n",
    "\n",
    "# create a new column using UDF\n",
    "voters_df = voters_df.withColumn('first_and_midle_name', udfFirstAndMiddle(voters_df.splits))"
   ]
  },
  {
   "cell_type": "code",
   "execution_count": 33,
   "id": "06bf36d3",
   "metadata": {},
   "outputs": [
    {
     "name": "stdout",
     "output_type": "stream",
     "text": [
      "+----------+--------------------+------------------+---------+-------------------+--------------------+\n",
      "|      DATE|               TITLE|        VOTER_NAME|last_name|         random_val|first_and_midle_name|\n",
      "+----------+--------------------+------------------+---------+-------------------+--------------------+\n",
      "|04/11/2018|Deputy Mayor Pro Tem|      Adam Medrano|  Medrano|                0.0|                Adam|\n",
      "|02/14/2018|       Councilmember|   Lee M. Kleinman| Kleinman|0.27704564862852665|              Lee M.|\n",
      "|04/25/2018|       Councilmember|    Tennell Atkins|   Atkins|0.48321996392774413|             Tennell|\n",
      "|08/29/2018|       Councilmember|      Kevin Felder|   Felder|0.02436788692368619|               Kevin|\n",
      "|10/18/2017|       Councilmember|Jennifer S.  Gates|    Gates|0.22666829644174258|         Jennifer S.|\n",
      "+----------+--------------------+------------------+---------+-------------------+--------------------+\n",
      "only showing top 5 rows\n",
      "\n"
     ]
    }
   ],
   "source": [
    "# drop the unnecessary columns then show the DataFrame\n",
    "voters_df = voters_df.drop('first_name')\n",
    "voters_df = voters_df.drop('splits')\n",
    "voters_df.show(5)"
   ]
  },
  {
   "cell_type": "markdown",
   "id": "8b8262ad",
   "metadata": {},
   "source": [
    "### Adding an ID Field"
   ]
  },
  {
   "cell_type": "code",
   "execution_count": 34,
   "id": "dd180b8c",
   "metadata": {},
   "outputs": [
    {
     "name": "stdout",
     "output_type": "stream",
     "text": [
      "\n",
      "There are 27 rows in the voters_df DataFrame.\n",
      "\n"
     ]
    }
   ],
   "source": [
    "# select all the unique council voters\n",
    "voters_df = voters_df.select(voters_df[\"VOTER_NAME\"]).distinct()\n",
    "\n",
    "# count the rows in voters_df\n",
    "print('\\nThere are %d rows in the voters_df DataFrame.\\n' % voters_df.count())"
   ]
  },
  {
   "cell_type": "code",
   "execution_count": 35,
   "id": "d989fb4f",
   "metadata": {},
   "outputs": [],
   "source": [
    "from pyspark.sql.functions import monotonically_increasing_id"
   ]
  },
  {
   "cell_type": "code",
   "execution_count": 36,
   "id": "e6229492",
   "metadata": {},
   "outputs": [],
   "source": [
    "# add a ROW_ID\n",
    "voters_df = voters_df.withColumn('ROW_ID', monotonically_increasing_id())"
   ]
  },
  {
   "cell_type": "code",
   "execution_count": 37,
   "id": "797475c8",
   "metadata": {},
   "outputs": [
    {
     "name": "stdout",
     "output_type": "stream",
     "text": [
      "+-------------------+------+\n",
      "|         VOTER_NAME|ROW_ID|\n",
      "+-------------------+------+\n",
      "|     Tennell Atkins|     0|\n",
      "|       Scott Griggs|     1|\n",
      "|      Scott  Griggs|     2|\n",
      "|      Sandy Greyson|     3|\n",
      "|Michael S. Rawlings|     4|\n",
      "|       Kevin Felder|     5|\n",
      "|       Adam Medrano|     6|\n",
      "|      Casey  Thomas|     7|\n",
      "|      Mark  Clayton|     8|\n",
      "|       Casey Thomas|     9|\n",
      "|     Sandy  Greyson|    10|\n",
      "|       Mark Clayton|    11|\n",
      "| Jennifer S.  Gates|    12|\n",
      "|  Tiffinni A. Young|    13|\n",
      "|   B. Adam  McGough|    14|\n",
      "|       Omar Narvaez|    15|\n",
      "| Philip T. Kingston|    16|\n",
      "| Rickey D. Callahan|    17|\n",
      "|  Dwaine R. Caraway|    18|\n",
      "|Philip T.  Kingston|    19|\n",
      "+-------------------+------+\n",
      "only showing top 20 rows\n",
      "\n"
     ]
    }
   ],
   "source": [
    "voters_df.show()"
   ]
  },
  {
   "cell_type": "code",
   "execution_count": 38,
   "id": "2add4aa0",
   "metadata": {},
   "outputs": [
    {
     "name": "stdout",
     "output_type": "stream",
     "text": [
      "+-------------------+------+\n",
      "|         VOTER_NAME|ROW_ID|\n",
      "+-------------------+------+\n",
      "|       Lee Kleinman|    26|\n",
      "|        Erik Wilson|    25|\n",
      "|Carolyn King Arnold|    24|\n",
      "|Rickey D.  Callahan|    23|\n",
      "|   Monica R. Alonzo|    22|\n",
      "|    Lee M. Kleinman|    21|\n",
      "|  Jennifer S. Gates|    20|\n",
      "|Philip T.  Kingston|    19|\n",
      "|  Dwaine R. Caraway|    18|\n",
      "| Rickey D. Callahan|    17|\n",
      "+-------------------+------+\n",
      "only showing top 10 rows\n",
      "\n"
     ]
    }
   ],
   "source": [
    "# show the rows with 10 highest IDs in the set\n",
    "voters_df.orderBy(voters_df.ROW_ID.desc()).show(10)"
   ]
  },
  {
   "cell_type": "markdown",
   "id": "da85c08b",
   "metadata": {},
   "source": [
    "### IDs with different partitions"
   ]
  },
  {
   "cell_type": "code",
   "execution_count": 39,
   "id": "deeebeca",
   "metadata": {},
   "outputs": [
    {
     "name": "stdout",
     "output_type": "stream",
     "text": [
      "\n",
      "There are 1 partitions in the voters_df DataFrame.\n",
      "\n"
     ]
    }
   ],
   "source": [
    "# print the number of partitions in each DataFrame\n",
    "print('\\nThere are %d partitions in the voters_df DataFrame.\\n' % voters_df.rdd.getNumPartitions())"
   ]
  },
  {
   "cell_type": "code",
   "execution_count": 40,
   "id": "be7695a6",
   "metadata": {},
   "outputs": [],
   "source": [
    "# determine the highest ROW_ID and save it in previous_max_ID\n",
    "previous_max_ID = voters_df.select('ROW_ID').rdd.max()[0]\n",
    "\n",
    "# add a ROW_ID column to voter_df_april  starting at the desired value\n",
    "voter_df_april = voters_df.withColumn('ROW_ID', \n",
    "                                      monotonically_increasing_id() + previous_max_ID)"
   ]
  },
  {
   "cell_type": "code",
   "execution_count": 41,
   "id": "b0437c53",
   "metadata": {},
   "outputs": [
    {
     "name": "stdout",
     "output_type": "stream",
     "text": [
      "+------+\n",
      "|ROW_ID|\n",
      "+------+\n",
      "|     0|\n",
      "|     1|\n",
      "|     2|\n",
      "|     3|\n",
      "|     4|\n",
      "+------+\n",
      "only showing top 5 rows\n",
      "\n",
      "+------+\n",
      "|ROW_ID|\n",
      "+------+\n",
      "|    26|\n",
      "|    27|\n",
      "|    28|\n",
      "|    29|\n",
      "|    30|\n",
      "+------+\n",
      "only showing top 5 rows\n",
      "\n"
     ]
    },
    {
     "name": "stderr",
     "output_type": "stream",
     "text": [
      "25/07/04 22:19:31 WARN GarbageCollectionMetrics: To enable non-built-in garbage collector(s) List(G1 Concurrent GC), users should configure it(them) to spark.eventLog.gcMetrics.youngGenerationGarbageCollectors or spark.eventLog.gcMetrics.oldGenerationGarbageCollectors\n"
     ]
    }
   ],
   "source": [
    "# show the ROW_ID from both DataFrames and compare\n",
    "voters_df.select('ROW_ID').show(5)\n",
    "voter_df_april.select('ROW_ID').show(5)"
   ]
  }
 ],
 "metadata": {
  "kernelspec": {
   "display_name": "Python 3 (ipykernel)",
   "language": "python",
   "name": "python3"
  },
  "language_info": {
   "codemirror_mode": {
    "name": "ipython",
    "version": 3
   },
   "file_extension": ".py",
   "mimetype": "text/x-python",
   "name": "python",
   "nbconvert_exporter": "python",
   "pygments_lexer": "ipython3",
   "version": "3.11.0"
  }
 },
 "nbformat": 4,
 "nbformat_minor": 5
}
